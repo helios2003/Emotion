{
  "cells": [
    {
      "cell_type": "code",
      "execution_count": 1,
      "metadata": {
        "id": "fap9fJRr_Njo"
      },
      "outputs": [],
      "source": [
        "import pandas as pd"
      ]
    },
    {
      "cell_type": "markdown",
      "metadata": {},
      "source": [
        "# Tradtional ML Model"
      ]
    },
    {
      "cell_type": "markdown",
      "metadata": {},
      "source": [
        "## Loading and Preprocessing the Dataset"
      ]
    },
    {
      "cell_type": "code",
      "execution_count": null,
      "metadata": {
        "id": "oShrXXUV_BUG"
      },
      "outputs": [],
      "source": [
        "columns = ['ID', 'Text', 'Emotion', 'Confidence']\n",
        "df_sad = pd.read_csv(\"./emotions/sad.txt\", delimiter=\"\\t\", header=None, names=columns)\n",
        "df_sad_test = pd.read_csv(\"./emotions/sad_test.txt\", delimiter=\"\\t\", header=None, names=columns)\n",
        "\n",
        "df_fear = pd.read_csv(\"./emotions/fear.txt\", delimiter=\"\\t\", header=None, names=columns)\n",
        "df_fear_test = pd.read_csv(\"./emotions/fear_test.txt\", delimiter=\"\\t\", header=None, names=columns)\n",
        "\n",
        "df_joy = pd.read_csv(\"./emotions/joy.txt\", delimiter=\"\\t\", header=None, names=columns)\n",
        "df_joy_test = pd.read_csv(\"./emotions/joy_test.txt\", delimiter=\"\\t\", header=None, names=columns)"
      ]
    },
    {
      "cell_type": "code",
      "execution_count": 3,
      "metadata": {
        "id": "m6rjiBLDBm9w"
      },
      "outputs": [],
      "source": [
        "import re\n",
        "\n",
        "def clean_text(df):\n",
        "    df['Text'] = df['Text'].str.lower()\n",
        "    df['Text'] = df['Text'].str.replace('\\n', ' ')\n",
        "    df['Text'] = df['Text'].str.replace('\\r', ' ')\n",
        "    df['Text'] = df['Text'].str.replace('\\t', ' ')\n",
        "    # Remove non-UTF-8 characters\n",
        "    df['Text'] = df['Text'].apply(lambda x: re.sub(r'[^\\x00-\\x7F]+', ' ', x))\n",
        "    # Fix hashtags\n",
        "    df['Text'] = df['Text'].apply(lambda x: re.sub(r'#(\\w+)', r'\\1', x))\n",
        "    # Remove @ characters\n",
        "    df['Text'] = df['Text'].str.replace('@', '')\n",
        "    return df"
      ]
    },
    {
      "cell_type": "code",
      "execution_count": 4,
      "metadata": {
        "colab": {
          "base_uri": "https://localhost:8080/",
          "height": 423
        },
        "id": "iGQvO1biCjlt",
        "outputId": "203d325a-00d9-4a94-afe1-675846892624"
      },
      "outputs": [
        {
          "data": {
            "text/html": [
              "<div>\n",
              "<style scoped>\n",
              "    .dataframe tbody tr th:only-of-type {\n",
              "        vertical-align: middle;\n",
              "    }\n",
              "\n",
              "    .dataframe tbody tr th {\n",
              "        vertical-align: top;\n",
              "    }\n",
              "\n",
              "    .dataframe thead th {\n",
              "        text-align: right;\n",
              "    }\n",
              "</style>\n",
              "<table border=\"1\" class=\"dataframe\">\n",
              "  <thead>\n",
              "    <tr style=\"text-align: right;\">\n",
              "      <th></th>\n",
              "      <th>ID</th>\n",
              "      <th>Text</th>\n",
              "      <th>Emotion</th>\n",
              "      <th>Confidence</th>\n",
              "    </tr>\n",
              "  </thead>\n",
              "  <tbody>\n",
              "    <tr>\n",
              "      <th>0</th>\n",
              "      <td>40000</td>\n",
              "      <td>Depression sucks! #depression</td>\n",
              "      <td>sadness</td>\n",
              "      <td>0.958</td>\n",
              "    </tr>\n",
              "    <tr>\n",
              "      <th>1</th>\n",
              "      <td>40001</td>\n",
              "      <td>Feeling worthless as always #depression</td>\n",
              "      <td>sadness</td>\n",
              "      <td>0.958</td>\n",
              "    </tr>\n",
              "    <tr>\n",
              "      <th>2</th>\n",
              "      <td>40002</td>\n",
              "      <td>Feeling worthless as always</td>\n",
              "      <td>sadness</td>\n",
              "      <td>0.958</td>\n",
              "    </tr>\n",
              "    <tr>\n",
              "      <th>3</th>\n",
              "      <td>40003</td>\n",
              "      <td>My #Fibromyalgia has been really bad lately wh...</td>\n",
              "      <td>sadness</td>\n",
              "      <td>0.946</td>\n",
              "    </tr>\n",
              "    <tr>\n",
              "      <th>4</th>\n",
              "      <td>40004</td>\n",
              "      <td>Im think ima lay in bed all day and sulk. Life...</td>\n",
              "      <td>sadness</td>\n",
              "      <td>0.934</td>\n",
              "    </tr>\n",
              "    <tr>\n",
              "      <th>...</th>\n",
              "      <td>...</td>\n",
              "      <td>...</td>\n",
              "      <td>...</td>\n",
              "      <td>...</td>\n",
              "    </tr>\n",
              "    <tr>\n",
              "      <th>781</th>\n",
              "      <td>40781</td>\n",
              "      <td>@VivienLloyd Thank you so much! Just home - st...</td>\n",
              "      <td>sadness</td>\n",
              "      <td>0.104</td>\n",
              "    </tr>\n",
              "    <tr>\n",
              "      <th>782</th>\n",
              "      <td>40782</td>\n",
              "      <td>Just put the winter duvet on â˜ƒï¸â„ï¸ðŸŒ¬â...</td>\n",
              "      <td>sadness</td>\n",
              "      <td>0.104</td>\n",
              "    </tr>\n",
              "    <tr>\n",
              "      <th>783</th>\n",
              "      <td>40783</td>\n",
              "      <td>@SilkInSide @TommyJoeRatliff that's so pretty!...</td>\n",
              "      <td>sadness</td>\n",
              "      <td>0.088</td>\n",
              "    </tr>\n",
              "    <tr>\n",
              "      <th>784</th>\n",
              "      <td>40784</td>\n",
              "      <td>@BluesfestByron second artist announcement loo...</td>\n",
              "      <td>sadness</td>\n",
              "      <td>0.083</td>\n",
              "    </tr>\n",
              "    <tr>\n",
              "      <th>785</th>\n",
              "      <td>40785</td>\n",
              "      <td>I can literally eat creamy pesto pasta topped ...</td>\n",
              "      <td>sadness</td>\n",
              "      <td>0.083</td>\n",
              "    </tr>\n",
              "  </tbody>\n",
              "</table>\n",
              "<p>786 rows × 4 columns</p>\n",
              "</div>"
            ],
            "text/plain": [
              "        ID                                               Text  Emotion  \\\n",
              "0    40000                      Depression sucks! #depression  sadness   \n",
              "1    40001            Feeling worthless as always #depression  sadness   \n",
              "2    40002                       Feeling worthless as always   sadness   \n",
              "3    40003  My #Fibromyalgia has been really bad lately wh...  sadness   \n",
              "4    40004  Im think ima lay in bed all day and sulk. Life...  sadness   \n",
              "..     ...                                                ...      ...   \n",
              "781  40781  @VivienLloyd Thank you so much! Just home - st...  sadness   \n",
              "782  40782  Just put the winter duvet on â˜ƒï¸â„ï¸ðŸŒ¬â...  sadness   \n",
              "783  40783  @SilkInSide @TommyJoeRatliff that's so pretty!...  sadness   \n",
              "784  40784  @BluesfestByron second artist announcement loo...  sadness   \n",
              "785  40785  I can literally eat creamy pesto pasta topped ...  sadness   \n",
              "\n",
              "     Confidence  \n",
              "0         0.958  \n",
              "1         0.958  \n",
              "2         0.958  \n",
              "3         0.946  \n",
              "4         0.934  \n",
              "..          ...  \n",
              "781       0.104  \n",
              "782       0.104  \n",
              "783       0.088  \n",
              "784       0.083  \n",
              "785       0.083  \n",
              "\n",
              "[786 rows x 4 columns]"
            ]
          },
          "execution_count": 4,
          "metadata": {},
          "output_type": "execute_result"
        }
      ],
      "source": [
        "df_sad"
      ]
    },
    {
      "cell_type": "code",
      "execution_count": 5,
      "metadata": {
        "colab": {
          "base_uri": "https://localhost:8080/",
          "height": 454
        },
        "id": "Vyjy85GSE2dW",
        "outputId": "4a04d83e-2177-4868-ad1f-64cf2f5161c6"
      },
      "outputs": [
        {
          "data": {
            "image/png": "[encoded data removed]",
            "text/plain": [
              "<Figure size 640x480 with 1 Axes>"
            ]
          },
          "metadata": {},
          "output_type": "display_data"
        }
      ],
      "source": [
        "# shuffle the data to not have non uniformity\n",
        "from matplotlib import pyplot as plt\n",
        "df_sad.plot(kind='scatter', x='ID', y='Confidence', s=32, alpha=.8)\n",
        "plt.gca().spines[['top', 'right',]].set_visible(False)"
      ]
    },
    {
      "cell_type": "markdown",
      "metadata": {},
      "source": [
        "## Make the dataset uniformly random"
      ]
    },
    {
      "cell_type": "code",
      "execution_count": 6,
      "metadata": {
        "colab": {
          "base_uri": "https://localhost:8080/",
          "height": 423
        },
        "id": "wQI1dZMTEajy",
        "outputId": "e3fe678c-ba32-49c5-b564-5a3d8d857df6"
      },
      "outputs": [
        {
          "data": {
            "text/html": [
              "<div>\n",
              "<style scoped>\n",
              "    .dataframe tbody tr th:only-of-type {\n",
              "        vertical-align: middle;\n",
              "    }\n",
              "\n",
              "    .dataframe tbody tr th {\n",
              "        vertical-align: top;\n",
              "    }\n",
              "\n",
              "    .dataframe thead th {\n",
              "        text-align: right;\n",
              "    }\n",
              "</style>\n",
              "<table border=\"1\" class=\"dataframe\">\n",
              "  <thead>\n",
              "    <tr style=\"text-align: right;\">\n",
              "      <th></th>\n",
              "      <th>ID</th>\n",
              "      <th>Text</th>\n",
              "      <th>Emotion</th>\n",
              "      <th>Confidence</th>\n",
              "    </tr>\n",
              "  </thead>\n",
              "  <tbody>\n",
              "    <tr>\n",
              "      <th>0</th>\n",
              "      <td>40486</td>\n",
              "      <td>@A_RockasThe U.S. has added years to the Syria...</td>\n",
              "      <td>sadness</td>\n",
              "      <td>0.417</td>\n",
              "    </tr>\n",
              "    <tr>\n",
              "      <th>1</th>\n",
              "      <td>40274</td>\n",
              "      <td>@groovydadad @MHChat ðŸ™‚ty I often conflate t...</td>\n",
              "      <td>sadness</td>\n",
              "      <td>0.583</td>\n",
              "    </tr>\n",
              "    <tr>\n",
              "      <th>2</th>\n",
              "      <td>40604</td>\n",
              "      <td>@UltimateBoxer My heart because you left me fo...</td>\n",
              "      <td>sadness</td>\n",
              "      <td>0.333</td>\n",
              "    </tr>\n",
              "    <tr>\n",
              "      <th>3</th>\n",
              "      <td>40181</td>\n",
              "      <td>Having holiday blues! #WantToGoBackToMinehead.</td>\n",
              "      <td>sadness</td>\n",
              "      <td>0.661</td>\n",
              "    </tr>\n",
              "    <tr>\n",
              "      <th>4</th>\n",
              "      <td>40692</td>\n",
              "      <td>God's love spring.Of one dat sunk his whole es...</td>\n",
              "      <td>sadness</td>\n",
              "      <td>0.271</td>\n",
              "    </tr>\n",
              "    <tr>\n",
              "      <th>...</th>\n",
              "      <td>...</td>\n",
              "      <td>...</td>\n",
              "      <td>...</td>\n",
              "      <td>...</td>\n",
              "    </tr>\n",
              "    <tr>\n",
              "      <th>781</th>\n",
              "      <td>40189</td>\n",
              "      <td>The fact I haven't had to wear a bra for a wee...</td>\n",
              "      <td>sadness</td>\n",
              "      <td>0.646</td>\n",
              "    </tr>\n",
              "    <tr>\n",
              "      <th>782</th>\n",
              "      <td>40102</td>\n",
              "      <td>Ill say it again. If I was a Black man Id be a...</td>\n",
              "      <td>sadness</td>\n",
              "      <td>0.729</td>\n",
              "    </tr>\n",
              "    <tr>\n",
              "      <th>783</th>\n",
              "      <td>40203</td>\n",
              "      <td>@MHChat #mhchat Childhood experiences inform a...</td>\n",
              "      <td>sadness</td>\n",
              "      <td>0.625</td>\n",
              "    </tr>\n",
              "    <tr>\n",
              "      <th>784</th>\n",
              "      <td>40227</td>\n",
              "      <td>@JohnRMoffitt This is the most grim piece of l...</td>\n",
              "      <td>sadness</td>\n",
              "      <td>0.604</td>\n",
              "    </tr>\n",
              "    <tr>\n",
              "      <th>785</th>\n",
              "      <td>40160</td>\n",
              "      <td>Had to give my 11yo AfAm son this advice today...</td>\n",
              "      <td>sadness</td>\n",
              "      <td>0.667</td>\n",
              "    </tr>\n",
              "  </tbody>\n",
              "</table>\n",
              "<p>786 rows × 4 columns</p>\n",
              "</div>"
            ],
            "text/plain": [
              "        ID                                               Text  Emotion  \\\n",
              "0    40486  @A_RockasThe U.S. has added years to the Syria...  sadness   \n",
              "1    40274  @groovydadad @MHChat ðŸ™‚ty I often conflate t...  sadness   \n",
              "2    40604  @UltimateBoxer My heart because you left me fo...  sadness   \n",
              "3    40181     Having holiday blues! #WantToGoBackToMinehead.  sadness   \n",
              "4    40692  God's love spring.Of one dat sunk his whole es...  sadness   \n",
              "..     ...                                                ...      ...   \n",
              "781  40189  The fact I haven't had to wear a bra for a wee...  sadness   \n",
              "782  40102  Ill say it again. If I was a Black man Id be a...  sadness   \n",
              "783  40203  @MHChat #mhchat Childhood experiences inform a...  sadness   \n",
              "784  40227  @JohnRMoffitt This is the most grim piece of l...  sadness   \n",
              "785  40160  Had to give my 11yo AfAm son this advice today...  sadness   \n",
              "\n",
              "     Confidence  \n",
              "0         0.417  \n",
              "1         0.583  \n",
              "2         0.333  \n",
              "3         0.661  \n",
              "4         0.271  \n",
              "..          ...  \n",
              "781       0.646  \n",
              "782       0.729  \n",
              "783       0.625  \n",
              "784       0.604  \n",
              "785       0.667  \n",
              "\n",
              "[786 rows x 4 columns]"
            ]
          },
          "execution_count": 6,
          "metadata": {},
          "output_type": "execute_result"
        }
      ],
      "source": [
        "# shuffle the data to maintain the uniformity\n",
        "df_sad = df_sad.sample(frac=1).reset_index(drop=True)\n",
        "df_fear = df_fear.sample(frac=1).reset_index(drop=True)\n",
        "df_joy = df_joy.sample(frac=1).reset_index(drop=True)\n",
        "\n",
        "df_sad"
      ]
    },
    {
      "cell_type": "code",
      "execution_count": 7,
      "metadata": {
        "id": "HE_PKwINHXzE"
      },
      "outputs": [],
      "source": [
        "X_train_sad = df_sad['Text']\n",
        "X_train_fear = df_fear['Text']\n",
        "X_train_joy = df_joy['Text']\n",
        "y_train_sad = df_sad['Confidence']\n",
        "y_train_fear = df_fear['Confidence']\n",
        "y_train_joy = df_joy['Confidence']"
      ]
    },
    {
      "cell_type": "code",
      "execution_count": 8,
      "metadata": {
        "id": "41Rlllb4yin5"
      },
      "outputs": [],
      "source": [
        "X_test_sad = df_sad['Text']\n",
        "X_test_fear = df_fear['Text']\n",
        "X_test_joy = df_joy['Text']"
      ]
    },
    {
      "cell_type": "code",
      "execution_count": 15,
      "metadata": {},
      "outputs": [
        {
          "name": "stdout",
          "output_type": "stream",
          "text": [
            "Requirement already satisfied: scikit-learn in c:\\python312\\lib\\site-packages (1.4.1.post1)\n",
            "Requirement already satisfied: scipy in c:\\python312\\lib\\site-packages (1.12.0)\n",
            "Collecting matplotlib\n",
            "  Downloading matplotlib-3.8.3-cp312-cp312-win_amd64.whl.metadata (5.9 kB)\n",
            "Requirement already satisfied: numpy<2.0,>=1.19.5 in c:\\python312\\lib\\site-packages (from scikit-learn) (1.26.4)\n",
            "Requirement already satisfied: joblib>=1.2.0 in c:\\python312\\lib\\site-packages (from scikit-learn) (1.3.2)\n",
            "Requirement already satisfied: threadpoolctl>=2.0.0 in c:\\python312\\lib\\site-packages (from scikit-learn) (3.3.0)\n",
            "Collecting contourpy>=1.0.1 (from matplotlib)\n",
            "  Downloading contourpy-1.2.0-cp312-cp312-win_amd64.whl.metadata (5.8 kB)\n",
            "Collecting cycler>=0.10 (from matplotlib)\n",
            "  Downloading cycler-0.12.1-py3-none-any.whl.metadata (3.8 kB)\n",
            "Collecting fonttools>=4.22.0 (from matplotlib)\n",
            "  Downloading fonttools-4.50.0-cp312-cp312-win_amd64.whl.metadata (162 kB)\n",
            "     ---------------------------------------- 0.0/162.6 kB ? eta -:--:--\n",
            "     -- ------------------------------------- 10.2/162.6 kB ? eta -:--:--\n",
            "     ------ ------------------------------ 30.7/162.6 kB 262.6 kB/s eta 0:00:01\n",
            "     --------- --------------------------- 41.0/162.6 kB 281.8 kB/s eta 0:00:01\n",
            "     ------------------------ ----------- 112.6/162.6 kB 656.4 kB/s eta 0:00:01\n",
            "     ------------------------------------ 162.6/162.6 kB 750.6 kB/s eta 0:00:00\n",
            "Collecting kiwisolver>=1.3.1 (from matplotlib)\n",
            "  Downloading kiwisolver-1.4.5-cp312-cp312-win_amd64.whl.metadata (6.5 kB)\n",
            "Requirement already satisfied: packaging>=20.0 in c:\\python312\\lib\\site-packages (from matplotlib) (24.0)\n",
            "Collecting pillow>=8 (from matplotlib)\n",
            "  Using cached pillow-10.2.0-cp312-cp312-win_amd64.whl.metadata (9.9 kB)\n",
            "Collecting pyparsing>=2.3.1 (from matplotlib)\n",
            "  Downloading pyparsing-3.1.2-py3-none-any.whl.metadata (5.1 kB)\n",
            "Collecting python-dateutil>=2.7 (from matplotlib)\n",
            "  Downloading python_dateutil-2.9.0.post0-py2.py3-none-any.whl.metadata (8.4 kB)\n",
            "Collecting six>=1.5 (from python-dateutil>=2.7->matplotlib)\n",
            "  Using cached six-1.16.0-py2.py3-none-any.whl.metadata (1.8 kB)\n",
            "Downloading matplotlib-3.8.3-cp312-cp312-win_amd64.whl (7.6 MB)\n",
            "   ---------------------------------------- 0.0/7.6 MB ? eta -:--:--\n",
            "    --------------------------------------- 0.1/7.6 MB ? eta -:--:--\n",
            "   - -------------------------------------- 0.2/7.6 MB 3.6 MB/s eta 0:00:03\n",
            "   - -------------------------------------- 0.3/7.6 MB 2.5 MB/s eta 0:00:03\n",
            "   -- ------------------------------------- 0.4/7.6 MB 2.2 MB/s eta 0:00:04\n",
            "   -- ------------------------------------- 0.5/7.6 MB 2.5 MB/s eta 0:00:03\n",
            "   --- ------------------------------------ 0.6/7.6 MB 2.4 MB/s eta 0:00:03\n",
            "   --- ------------------------------------ 0.7/7.6 MB 2.2 MB/s eta 0:00:04\n",
            "   ---- ----------------------------------- 0.8/7.6 MB 2.2 MB/s eta 0:00:04\n",
            "   ---- ----------------------------------- 0.9/7.6 MB 2.3 MB/s eta 0:00:03\n",
            "   ----- ---------------------------------- 1.0/7.6 MB 2.3 MB/s eta 0:00:03\n",
            "   ----- ---------------------------------- 1.1/7.6 MB 2.1 MB/s eta 0:00:04\n",
            "   ------ --------------------------------- 1.2/7.6 MB 2.2 MB/s eta 0:00:03\n",
            "   ------ --------------------------------- 1.3/7.6 MB 2.2 MB/s eta 0:00:03\n",
            "   ------- -------------------------------- 1.4/7.6 MB 2.2 MB/s eta 0:00:03\n",
            "   ------- -------------------------------- 1.5/7.6 MB 2.1 MB/s eta 0:00:03\n",
            "   -------- ------------------------------- 1.6/7.6 MB 2.1 MB/s eta 0:00:03\n",
            "   -------- ------------------------------- 1.7/7.6 MB 2.2 MB/s eta 0:00:03\n",
            "   --------- ------------------------------ 1.8/7.6 MB 2.2 MB/s eta 0:00:03\n",
            "   --------- ------------------------------ 1.8/7.6 MB 2.1 MB/s eta 0:00:03\n",
            "   ---------- ----------------------------- 1.9/7.6 MB 2.1 MB/s eta 0:00:03\n",
            "   ---------- ----------------------------- 2.1/7.6 MB 2.1 MB/s eta 0:00:03\n",
            "   ---------- ----------------------------- 2.1/7.6 MB 2.1 MB/s eta 0:00:03\n",
            "   ----------- ---------------------------- 2.2/7.6 MB 2.1 MB/s eta 0:00:03\n",
            "   ------------ --------------------------- 2.3/7.6 MB 2.1 MB/s eta 0:00:03\n",
            "   ------------ --------------------------- 2.4/7.6 MB 2.1 MB/s eta 0:00:03\n",
            "   ------------ --------------------------- 2.5/7.6 MB 2.1 MB/s eta 0:00:03\n",
            "   ------------- -------------------------- 2.6/7.6 MB 2.1 MB/s eta 0:00:03\n",
            "   -------------- ------------------------- 2.7/7.6 MB 2.1 MB/s eta 0:00:03\n",
            "   -------------- ------------------------- 2.8/7.6 MB 2.1 MB/s eta 0:00:03\n",
            "   -------------- ------------------------- 2.9/7.6 MB 2.1 MB/s eta 0:00:03\n",
            "   --------------- ------------------------ 3.0/7.6 MB 2.1 MB/s eta 0:00:03\n",
            "   ---------------- ----------------------- 3.1/7.6 MB 2.1 MB/s eta 0:00:03\n",
            "   ---------------- ----------------------- 3.2/7.6 MB 2.1 MB/s eta 0:00:03\n",
            "   ---------------- ----------------------- 3.2/7.6 MB 2.1 MB/s eta 0:00:03\n",
            "   ----------------- ---------------------- 3.4/7.6 MB 2.1 MB/s eta 0:00:03\n",
            "   ----------------- ---------------------- 3.4/7.6 MB 2.1 MB/s eta 0:00:03\n",
            "   ------------------ --------------------- 3.5/7.6 MB 2.1 MB/s eta 0:00:02\n",
            "   ------------------- -------------------- 3.6/7.6 MB 2.1 MB/s eta 0:00:02\n",
            "   ------------------- -------------------- 3.8/7.6 MB 2.1 MB/s eta 0:00:02\n",
            "   -------------------- ------------------- 3.8/7.6 MB 2.1 MB/s eta 0:00:02\n",
            "   -------------------- ------------------- 3.9/7.6 MB 2.1 MB/s eta 0:00:02\n",
            "   -------------------- ------------------- 4.0/7.6 MB 2.1 MB/s eta 0:00:02\n",
            "   --------------------- ------------------ 4.1/7.6 MB 2.1 MB/s eta 0:00:02\n",
            "   ---------------------- ----------------- 4.2/7.6 MB 2.1 MB/s eta 0:00:02\n",
            "   ---------------------- ----------------- 4.3/7.6 MB 2.1 MB/s eta 0:00:02\n",
            "   ----------------------- ---------------- 4.4/7.6 MB 2.1 MB/s eta 0:00:02\n",
            "   ----------------------- ---------------- 4.5/7.6 MB 2.1 MB/s eta 0:00:02\n",
            "   ----------------------- ---------------- 4.6/7.6 MB 2.1 MB/s eta 0:00:02\n",
            "   ------------------------ --------------- 4.7/7.6 MB 2.1 MB/s eta 0:00:02\n",
            "   ------------------------- -------------- 4.8/7.6 MB 2.1 MB/s eta 0:00:02\n",
            "   ------------------------- -------------- 4.8/7.6 MB 2.1 MB/s eta 0:00:02\n",
            "   ------------------------- -------------- 4.9/7.6 MB 2.1 MB/s eta 0:00:02\n",
            "   -------------------------- ------------- 5.1/7.6 MB 2.1 MB/s eta 0:00:02\n",
            "   --------------------------- ------------ 5.2/7.6 MB 2.1 MB/s eta 0:00:02\n",
            "   --------------------------- ------------ 5.3/7.6 MB 2.1 MB/s eta 0:00:02\n",
            "   --------------------------- ------------ 5.3/7.6 MB 2.1 MB/s eta 0:00:02\n",
            "   ---------------------------- ----------- 5.5/7.6 MB 2.1 MB/s eta 0:00:02\n",
            "   ----------------------------- ---------- 5.6/7.6 MB 2.1 MB/s eta 0:00:01\n",
            "   ----------------------------- ---------- 5.6/7.6 MB 2.1 MB/s eta 0:00:01\n",
            "   ----------------------------- ---------- 5.7/7.6 MB 2.1 MB/s eta 0:00:01\n",
            "   ------------------------------ --------- 5.9/7.6 MB 2.1 MB/s eta 0:00:01\n",
            "   ------------------------------- -------- 5.9/7.6 MB 2.1 MB/s eta 0:00:01\n",
            "   ------------------------------- -------- 6.0/7.6 MB 2.1 MB/s eta 0:00:01\n",
            "   ------------------------------- -------- 6.1/7.6 MB 2.1 MB/s eta 0:00:01\n",
            "   -------------------------------- ------- 6.2/7.6 MB 2.1 MB/s eta 0:00:01\n",
            "   --------------------------------- ------ 6.3/7.6 MB 2.1 MB/s eta 0:00:01\n",
            "   --------------------------------- ------ 6.4/7.6 MB 2.1 MB/s eta 0:00:01\n",
            "   ---------------------------------- ----- 6.5/7.6 MB 2.1 MB/s eta 0:00:01\n",
            "   ---------------------------------- ----- 6.6/7.6 MB 2.1 MB/s eta 0:00:01\n",
            "   ----------------------------------- ---- 6.7/7.6 MB 2.1 MB/s eta 0:00:01\n",
            "   ----------------------------------- ---- 6.8/7.6 MB 2.1 MB/s eta 0:00:01\n",
            "   ------------------------------------ --- 6.9/7.6 MB 2.1 MB/s eta 0:00:01\n",
            "   ------------------------------------ --- 7.0/7.6 MB 2.1 MB/s eta 0:00:01\n",
            "   ------------------------------------- -- 7.1/7.6 MB 2.1 MB/s eta 0:00:01\n",
            "   ------------------------------------- -- 7.2/7.6 MB 2.1 MB/s eta 0:00:01\n",
            "   -------------------------------------- - 7.3/7.6 MB 2.1 MB/s eta 0:00:01\n",
            "   -------------------------------------- - 7.4/7.6 MB 2.1 MB/s eta 0:00:01\n",
            "   ---------------------------------------  7.5/7.6 MB 2.1 MB/s eta 0:00:01\n",
            "   ---------------------------------------  7.5/7.6 MB 2.1 MB/s eta 0:00:01\n",
            "   ---------------------------------------  7.6/7.6 MB 2.1 MB/s eta 0:00:01\n",
            "   ---------------------------------------- 7.6/7.6 MB 2.1 MB/s eta 0:00:00\n",
            "Downloading contourpy-1.2.0-cp312-cp312-win_amd64.whl (187 kB)\n",
            "   ---------------------------------------- 0.0/187.7 kB ? eta -:--:--\n",
            "   ------------------------ --------------- 112.6/187.7 kB ? eta -:--:--\n",
            "   ---------------------------------------- 187.7/187.7 kB 2.3 MB/s eta 0:00:00\n",
            "Downloading cycler-0.12.1-py3-none-any.whl (8.3 kB)\n",
            "Downloading fonttools-4.50.0-cp312-cp312-win_amd64.whl (2.2 MB)\n",
            "   ---------------------------------------- 0.0/2.2 MB ? eta -:--:--\n",
            "   -- ------------------------------------- 0.1/2.2 MB 6.4 MB/s eta 0:00:01\n",
            "   ---- ----------------------------------- 0.2/2.2 MB 3.0 MB/s eta 0:00:01\n",
            "   ------ --------------------------------- 0.3/2.2 MB 2.3 MB/s eta 0:00:01\n",
            "   ------- -------------------------------- 0.4/2.2 MB 2.0 MB/s eta 0:00:01\n",
            "   --------- ------------------------------ 0.5/2.2 MB 2.2 MB/s eta 0:00:01\n",
            "   ----------- ---------------------------- 0.6/2.2 MB 2.3 MB/s eta 0:00:01\n",
            "   ------------ --------------------------- 0.7/2.2 MB 2.1 MB/s eta 0:00:01\n",
            "   -------------- ------------------------- 0.8/2.2 MB 2.2 MB/s eta 0:00:01\n",
            "   ---------------- ----------------------- 0.9/2.2 MB 2.3 MB/s eta 0:00:01\n",
            "   ------------------- -------------------- 1.0/2.2 MB 2.2 MB/s eta 0:00:01\n",
            "   ------------------- -------------------- 1.1/2.2 MB 2.0 MB/s eta 0:00:01\n",
            "   --------------------- ------------------ 1.2/2.2 MB 2.2 MB/s eta 0:00:01\n",
            "   ----------------------- ---------------- 1.3/2.2 MB 2.2 MB/s eta 0:00:01\n",
            "   -------------------------- ------------- 1.4/2.2 MB 2.2 MB/s eta 0:00:01\n",
            "   -------------------------- ------------- 1.4/2.2 MB 2.1 MB/s eta 0:00:01\n",
            "   ---------------------------- ----------- 1.6/2.2 MB 2.2 MB/s eta 0:00:01\n",
            "   ------------------------------- -------- 1.7/2.2 MB 2.1 MB/s eta 0:00:01\n",
            "   -------------------------------- ------- 1.7/2.2 MB 2.1 MB/s eta 0:00:01\n",
            "   --------------------------------- ------ 1.8/2.2 MB 2.1 MB/s eta 0:00:01\n",
            "   ----------------------------------- ---- 1.9/2.2 MB 2.1 MB/s eta 0:00:01\n",
            "   ------------------------------------- -- 2.1/2.2 MB 2.1 MB/s eta 0:00:01\n",
            "   ---------------------------------------- 2.2/2.2 MB 2.1 MB/s eta 0:00:00\n",
            "Downloading kiwisolver-1.4.5-cp312-cp312-win_amd64.whl (56 kB)\n",
            "   ---------------------------------------- 0.0/56.0 kB ? eta -:--:--\n",
            "   ---------------------------------------- 56.0/56.0 kB 2.9 MB/s eta 0:00:00\n",
            "Using cached pillow-10.2.0-cp312-cp312-win_amd64.whl (2.6 MB)\n",
            "Downloading pyparsing-3.1.2-py3-none-any.whl (103 kB)\n",
            "   ---------------------------------------- 0.0/103.2 kB ? eta -:--:--\n",
            "   ---------------------------------------- 103.2/103.2 kB 5.8 MB/s eta 0:00:00\n",
            "Downloading python_dateutil-2.9.0.post0-py2.py3-none-any.whl (229 kB)\n",
            "   ---------------------------------------- 0.0/229.9 kB ? eta -:--:--\n",
            "   --------------------------------------- 229.9/229.9 kB 14.6 MB/s eta 0:00:00\n",
            "Using cached six-1.16.0-py2.py3-none-any.whl (11 kB)\n",
            "Installing collected packages: six, pyparsing, pillow, kiwisolver, fonttools, cycler, contourpy, python-dateutil, matplotlib\n"
          ]
        },
        {
          "name": "stderr",
          "output_type": "stream",
          "text": [
            "ERROR: Could not install packages due to an OSError: [WinError 5] Access is denied: 'C:\\\\Python312\\\\share'\n",
            "Consider using the `--user` option or check the permissions.\n",
            "\n"
          ]
        }
      ],
      "source": [
        "!pip3 install -U scikit-learn scipy matplotlib"
      ]
    },
    {
      "cell_type": "markdown",
      "metadata": {},
      "source": [
        "## Use TF-IDF"
      ]
    },
    {
      "cell_type": "code",
      "execution_count": 2,
      "metadata": {
        "id": "h-5rKWwDFl_X"
      },
      "outputs": [
        {
          "name": "stdout",
          "output_type": "stream",
          "text": [
            "\n"
          ]
        }
      ],
      "source": [
        "from sklearn.feature_extraction.text import TfidfVectorizer\n",
        "tfidf_vectorizer_sad = TfidfVectorizer()\n",
        "tfidf_vectorizer_fear = TfidfVectorizer()\n",
        "tfidf_vectorizer_joy = TfidfVectorizer()"
      ]
    },
    {
      "cell_type": "code",
      "execution_count": 10,
      "metadata": {
        "id": "qrclP8F9oCKm"
      },
      "outputs": [],
      "source": [
        "X_train_tfidf_sad = tfidf_vectorizer_sad.fit_transform(X_train_sad)\n",
        "X_train_tfidf_fear = tfidf_vectorizer_fear.fit_transform(X_train_fear)\n",
        "X_train_tfidf_joy = tfidf_vectorizer_joy.fit_transform(X_train_joy)"
      ]
    },
    {
      "cell_type": "code",
      "execution_count": 14,
      "metadata": {
        "id": "0oM_enf4yXDL"
      },
      "outputs": [],
      "source": [
        "X_test_tfidf_sad = tfidf_vectorizer_sad.fit_transform(X_test_sad)\n",
        "X_test_tfidf_fear = tfidf_vectorizer_fear.fit_transform(X_test_fear)\n",
        "X_test_tfidf_joy = tfidf_vectorizer_joy.fit_transform(X_test_joy)"
      ]
    },
    {
      "cell_type": "code",
      "execution_count": 11,
      "metadata": {
        "id": "GeTZCFR8KMKG"
      },
      "outputs": [],
      "source": [
        "X_test_sad = df_sad_test['Text']\n",
        "X_test_fear = df_fear_test['Text']\n",
        "X_test_joy = df_joy_test['Text']"
      ]
    },
    {
      "cell_type": "code",
      "execution_count": 12,
      "metadata": {
        "id": "IXr6SFvtKgz-"
      },
      "outputs": [],
      "source": [
        "y_test_sad = df_sad_test['Confidence']\n",
        "y_test_fear = df_fear_test['Confidence']\n",
        "y_test_joy = df_joy_test['Confidence']"
      ]
    },
    {
      "cell_type": "markdown",
      "metadata": {},
      "source": [
        "## Use Linear Regression to Predict Confidence Scores"
      ]
    },
    {
      "cell_type": "code",
      "execution_count": 24,
      "metadata": {
        "id": "5aSRf2ziK8nc"
      },
      "outputs": [],
      "source": [
        "from sklearn.linear_model import LinearRegression\n",
        "model = LinearRegression()"
      ]
    },
    {
      "cell_type": "code",
      "execution_count": 25,
      "metadata": {
        "id": "E2b5JVdbR5vY"
      },
      "outputs": [],
      "source": [
        "model.fit(X_train_tfidf_sad, y_train_sad)\n",
        "confidence_scores_sad = model.predict(X_test_tfidf_sad)\n",
        "#confidence_scores_fear = model.predict(X_test_tfidf_fear)\n",
        "#confidence_scores_joy = model.predict(X_test_tfidf_joy)"
      ]
    },
    {
      "cell_type": "code",
      "execution_count": 26,
      "metadata": {
        "id": "kKlBxRIJzC3s"
      },
      "outputs": [],
      "source": [
        "model.fit(X_train_tfidf_fear, y_train_fear)\n",
        "confidence_scores_fear = model.predict(X_test_tfidf_fear)"
      ]
    },
    {
      "cell_type": "code",
      "execution_count": 27,
      "metadata": {
        "id": "ejnZMJYLzJD2"
      },
      "outputs": [],
      "source": [
        "model.fit(X_train_tfidf_joy, y_train_joy)\n",
        "confidence_scores_joy = model.predict(X_test_tfidf_joy)"
      ]
    },
    {
      "cell_type": "code",
      "execution_count": 28,
      "metadata": {
        "id": "Pxsjnoe0R9hE"
      },
      "outputs": [],
      "source": [
        "true_confidence_scores_sad = df_sad_test['Confidence']\n",
        "true_confidence_scores_fear = df_fear_test['Confidence']\n",
        "true_confidence_scores_joy = df_joy_test['Confidence']"
      ]
    },
    {
      "cell_type": "code",
      "execution_count": 34,
      "metadata": {
        "colab": {
          "base_uri": "https://localhost:8080/"
        },
        "id": "4J3puJE03FgJ",
        "outputId": "3ec701e9-cab6-4feb-f598-2680d5f6dd74"
      },
      "outputs": [
        {
          "name": "stdout",
          "output_type": "stream",
          "text": [
            "Mean Squared Error (MSE) for sad: 0.11028309254054418\n",
            "Mean Squared Error (MSE) for fear: 0.10599193024185172\n",
            "Mean Squared Error (MSE) for joy: 0.10959395527071428\n"
          ]
        }
      ],
      "source": [
        "# Pad the shorter arrays with zeros\n",
        "from sklearn.metrics import mean_squared_error\n",
        "import numpy as np\n",
        "if len(true_confidence_scores_sad) < len(confidence_scores_sad):\n",
        "    true_confidence_scores_sad = np.pad(true_confidence_scores_sad, (0, len(confidence_scores_sad) - len(true_confidence_scores_sad)), 'constant')\n",
        "elif len(confidence_scores_sad) < len(true_confidence_scores_sad):\n",
        "    confidence_scores_sad = np.pad(confidence_scores_sad, (0, len(true_confidence_scores_sad) - len(confidence_scores_sad)), 'constant')\n",
        "\n",
        "if len(true_confidence_scores_fear) < len(confidence_scores_fear):\n",
        "    true_confidence_scores_fear = np.pad(true_confidence_scores_fear, (0, len(confidence_scores_fear) - len(true_confidence_scores_fear)), 'constant')\n",
        "elif len(confidence_scores_fear) < len(true_confidence_scores_fear):\n",
        "    confidence_scores_fear = np.pad(confidence_scores_fear, (0, len(true_confidence_scores_fear) - len(confidence_scores_fear)), 'constant')\n",
        "\n",
        "if len(true_confidence_scores_joy) < len(confidence_scores_joy):\n",
        "    true_confidence_scores_joy = np.pad(true_confidence_scores_joy, (0, len(confidence_scores_joy) - len(true_confidence_scores_joy)), 'constant')\n",
        "elif len(confidence_scores_joy) < len(true_confidence_scores_joy):\n",
        "    confidence_scores_joy = np.pad(confidence_scores_joy, (0, len(true_confidence_scores_joy) - len(confidence_scores_joy)), 'constant')\n",
        "\n",
        "# Recalculate the MSE\n",
        "mse = mean_squared_error(true_confidence_scores_sad, confidence_scores_sad)\n",
        "print(\"Mean Squared Error (MSE) for sad:\", mse)\n",
        "mse = mean_squared_error(true_confidence_scores_fear, confidence_scores_fear)\n",
        "print(\"Mean Squared Error (MSE) for fear:\", mse)\n",
        "mse = mean_squared_error(true_confidence_scores_joy, confidence_scores_joy)\n",
        "print(\"Mean Squared Error (MSE) for joy:\", mse)"
      ]
    }
  ],
  "metadata": {
    "colab": {
      "provenance": []
    },
    "kernelspec": {
      "display_name": "Python 3",
      "name": "python3"
    },
    "language_info": {
      "codemirror_mode": {
        "name": "ipython",
        "version": 3
      },
      "file_extension": ".py",
      "mimetype": "text/x-python",
      "name": "python",
      "nbconvert_exporter": "python",
      "pygments_lexer": "ipython3",
      "version": "3.11.3"
    }
  },
  "nbformat": 4,
  "nbformat_minor": 0
}
